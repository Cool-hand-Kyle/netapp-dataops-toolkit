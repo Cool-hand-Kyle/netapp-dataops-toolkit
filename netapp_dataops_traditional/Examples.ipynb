{
 "cells": [
  {
   "cell_type": "markdown",
   "metadata": {
    "pycharm": {
     "name": "#%% md\n"
    }
   },
   "source": [
    "# NetApp DataOps Toolkit Examples\n",
    "\n",
    "This notebook includes examples that demonstrate how the NetApp DataOps Toolkit can be utilized as an importable library of functions."
   ]
  },
  {
   "cell_type": "markdown",
   "metadata": {
    "pycharm": {
     "name": "#%% md\n"
    }
   },
   "source": [
    "## Prerequisites\n",
    "\n",
    "A config file must be created before the NetApp DataOps Toolkit can be used to perform data management operations. To create a config file, open a terminal and run the following command: `netapp_dataops_cli.py config`. This command will create a config file named 'config.json' in '~/.netapp_dataops/'."
   ]
  },
  {
   "cell_type": "markdown",
   "metadata": {
    "pycharm": {
     "name": "#%% md\n"
    }
   },
   "source": [
    "## Import NetApp DataOps Toolkit Functions"
   ]
  },
  {
   "cell_type": "code",
   "execution_count": 1,
   "metadata": {
    "pycharm": {
     "name": "#%%\n"
    }
   },
   "outputs": [],
   "source": [
    "from netapp_dataops.traditional import clone_volume, create_volume, delete_volume, list_volumes, mount_volume, create_snapshot, delete_snapshot, list_snapshots, restore_snapshot, list_cloud_sync_relationships, sync_cloud_sync_relationship, list_snap_mirror_relationships, sync_snap_mirror_relationship, push_directory_to_s3, push_file_to_s3, pull_bucket_from_s3, pull_object_from_s3"
   ]
  },
  {
   "cell_type": "markdown",
   "metadata": {
    "pycharm": {
     "name": "#%% md\n"
    }
   },
   "source": [
    "## Example 1 - Create a New Data Volume\n",
    "\n",
    "The following function call will create a volume named 'test1' of size 10TB."
   ]
  },
  {
   "cell_type": "code",
   "execution_count": 2,
   "metadata": {
    "pycharm": {
     "name": "#%%\n"
    }
   },
   "outputs": [
    {
     "name": "stdout",
     "output_type": "stream",
     "text": [
      "Creating volume 'test1'.\n",
      "Volume created successfully.\n"
     ]
    }
   ],
   "source": [
    "create_volume(volume_name=\"test1\", volume_size=\"10TB\", print_output=True)"
   ]
  },
  {
   "cell_type": "markdown",
   "metadata": {
    "pycharm": {
     "name": "#%% md\n"
    }
   },
   "source": [
    "## Example 2 - Create a New Data Volume and Mount Locally\n",
    "\n",
    "The following function call will create a volume named 'test2' of size 2TB and will locally mount the volume at '~/test2'.\n",
    "\n",
    "Note: Mounting requires root privileges, so any Python program or notebook that invokes this function with the 'mountpoint' argument specified must be run as root."
   ]
  },
  {
   "cell_type": "code",
   "execution_count": 3,
   "metadata": {
    "pycharm": {
     "name": "#%%\n"
    }
   },
   "outputs": [
    {
     "name": "stdout",
     "output_type": "stream",
     "text": [
      "Creating volume 'test2'.\n",
      "Volume created successfully.\n",
      "Mounting volume 'test2' at '~/test2'.\n",
      "Volume mounted successfully.\n"
     ]
    }
   ],
   "source": [
    "create_volume(volume_name=\"test2\", volume_size=\"2TB\", mountpoint=\"~/test2\", print_output=True)"
   ]
  },
  {
   "cell_type": "markdown",
   "metadata": {
    "pycharm": {
     "name": "#%% md\n"
    }
   },
   "source": [
    "## Example 3 - Retrieve List of All Data Volumes (Do Not Include Local Mountpoints)\n",
    "\n",
    "The following function call will retrieve a list of all existing volumes, not including local mountpoints."
   ]
  },
  {
   "cell_type": "code",
   "execution_count": 4,
   "metadata": {
    "pycharm": {
     "name": "#%%\n"
    }
   },
   "outputs": [
    {
     "name": "stdout",
     "output_type": "stream",
     "text": [
      "Volume Name    Size    Type       NFS Mount Target            Clone    Source Volume    Source Snapshot\n",
      "-------------  ------  ---------  --------------------------  -------  ---------------  -----------------\n",
      "test1          10.0TB  flexvol    10.61.188.49:/test1         no\n",
      "test2          2.0TB   flexvol    10.61.188.49:/test2         no\n",
      "ailab_data01   10.0TB  flexvol    10.61.188.49:/ailab_data01  no\n",
      "home           10.0TB  flexgroup  10.61.188.49:/home          no\n",
      "ailab_data02   10.0TB  flexvol    10.61.188.49:/ailab_data02  no\n",
      "project        2.0TB   flexvol    10.61.188.49:/project       no\n",
      "imagene        10.0TB  flexgroup  10.61.188.49:/imagenet      no\n"
     ]
    }
   ],
   "source": [
    "volumes = list_volumes(print_output=True)"
   ]
  },
  {
   "cell_type": "markdown",
   "metadata": {
    "pycharm": {
     "name": "#%% md\n"
    }
   },
   "source": [
    "The contents of the returned list are shown below."
   ]
  },
  {
   "cell_type": "code",
   "execution_count": 5,
   "metadata": {
    "pycharm": {
     "name": "#%%\n"
    }
   },
   "outputs": [
    {
     "name": "stdout",
     "output_type": "stream",
     "text": [
      "[{'Volume Name': 'test1', 'Size': '10.0TB', 'Type': 'flexvol', 'NFS Mount Target': '10.61.188.49:/test1', 'Clone': 'no', 'Source Volume': '', 'Source Snapshot': ''}, {'Volume Name': 'test2', 'Size': '2.0TB', 'Type': 'flexvol', 'NFS Mount Target': '10.61.188.49:/test2', 'Clone': 'no', 'Source Volume': '', 'Source Snapshot': ''}, {'Volume Name': 'ailab_data01', 'Size': '10.0TB', 'Type': 'flexvol', 'NFS Mount Target': '10.61.188.49:/ailab_data01', 'Clone': 'no', 'Source Volume': '', 'Source Snapshot': ''}, {'Volume Name': 'home', 'Size': '10.0TB', 'Type': 'flexgroup', 'NFS Mount Target': '10.61.188.49:/home', 'Clone': 'no', 'Source Volume': '', 'Source Snapshot': ''}, {'Volume Name': 'ailab_data02', 'Size': '10.0TB', 'Type': 'flexvol', 'NFS Mount Target': '10.61.188.49:/ailab_data02', 'Clone': 'no', 'Source Volume': '', 'Source Snapshot': ''}, {'Volume Name': 'project', 'Size': '2.0TB', 'Type': 'flexvol', 'NFS Mount Target': '10.61.188.49:/project', 'Clone': 'no', 'Source Volume': '', 'Source Snapshot': ''}, {'Volume Name': 'imagene', 'Size': '10.0TB', 'Type': 'flexgroup', 'NFS Mount Target': '10.61.188.49:/imagenet', 'Clone': 'no', 'Source Volume': '', 'Source Snapshot': ''}]\n"
     ]
    }
   ],
   "source": [
    "print(volumes)"
   ]
  },
  {
   "cell_type": "markdown",
   "metadata": {
    "pycharm": {
     "name": "#%% md\n"
    }
   },
   "source": [
    "## Example 4 - Retrieve List of All Data Volumes (Include Local Mountpoints)\n",
    "\n",
    "The following function call will retrieve a list of all existing volumes, including local mountpoints."
   ]
  },
  {
   "cell_type": "code",
   "execution_count": 6,
   "metadata": {
    "pycharm": {
     "name": "#%%\n"
    }
   },
   "outputs": [
    {
     "name": "stdout",
     "output_type": "stream",
     "text": [
      "Volume Name    Size    Type       NFS Mount Target            Local Mountpoint    Clone    Source Volume    Source Snapshot\n",
      "-------------  ------  ---------  --------------------------  ------------------  -------  ---------------  -----------------\n",
      "test1          10.0TB  flexvol    10.61.188.49:/test1                             no\n",
      "test2          2.0TB   flexvol    10.61.188.49:/test2         /home/ai/test2      no\n",
      "ailab_data01   10.0TB  flexvol    10.61.188.49:/ailab_data01                      no\n",
      "home           10.0TB  flexgroup  10.61.188.49:/home                              no\n",
      "ailab_data02   10.0TB  flexvol    10.61.188.49:/ailab_data02                      no\n",
      "project        2.0TB   flexvol    10.61.188.49:/project                           no\n",
      "imagene        10.0TB  flexgroup  10.61.188.49:/imagenet                          no\n"
     ]
    }
   ],
   "source": [
    "volumes = list_volumes(check_local_mounts=True, print_output=True)"
   ]
  },
  {
   "cell_type": "markdown",
   "metadata": {
    "pycharm": {
     "name": "#%% md\n"
    }
   },
   "source": [
    "The contents of the returned list are shown below."
   ]
  },
  {
   "cell_type": "code",
   "execution_count": 7,
   "metadata": {
    "pycharm": {
     "name": "#%%\n"
    }
   },
   "outputs": [
    {
     "name": "stdout",
     "output_type": "stream",
     "text": [
      "[{'Volume Name': 'test1', 'Size': '10.0TB', 'Type': 'flexvol', 'NFS Mount Target': '10.61.188.49:/test1', 'Local Mountpoint': '', 'Clone': 'no', 'Source Volume': '', 'Source Snapshot': ''}, {'Volume Name': 'test2', 'Size': '2.0TB', 'Type': 'flexvol', 'NFS Mount Target': '10.61.188.49:/test2', 'Local Mountpoint': '/home/ai/test2', 'Clone': 'no', 'Source Volume': '', 'Source Snapshot': ''}, {'Volume Name': 'ailab_data01', 'Size': '10.0TB', 'Type': 'flexvol', 'NFS Mount Target': '10.61.188.49:/ailab_data01', 'Local Mountpoint': '', 'Clone': 'no', 'Source Volume': '', 'Source Snapshot': ''}, {'Volume Name': 'home', 'Size': '10.0TB', 'Type': 'flexgroup', 'NFS Mount Target': '10.61.188.49:/home', 'Local Mountpoint': '', 'Clone': 'no', 'Source Volume': '', 'Source Snapshot': ''}, {'Volume Name': 'ailab_data02', 'Size': '10.0TB', 'Type': 'flexvol', 'NFS Mount Target': '10.61.188.49:/ailab_data02', 'Local Mountpoint': '', 'Clone': 'no', 'Source Volume': '', 'Source Snapshot': ''}, {'Volume Name': 'project', 'Size': '2.0TB', 'Type': 'flexvol', 'NFS Mount Target': '10.61.188.49:/project', 'Local Mountpoint': '', 'Clone': 'no', 'Source Volume': '', 'Source Snapshot': ''}, {'Volume Name': 'imagene', 'Size': '10.0TB', 'Type': 'flexgroup', 'NFS Mount Target': '10.61.188.49:/imagenet', 'Local Mountpoint': '', 'Clone': 'no', 'Source Volume': '', 'Source Snapshot': ''}]\n"
     ]
    }
   ],
   "source": [
    "print(volumes)"
   ]
  },
  {
   "cell_type": "markdown",
   "metadata": {
    "pycharm": {
     "name": "#%% md\n"
    }
   },
   "source": [
    "## Example 5 - Mount an Existing Volume Locally\n",
    "\n",
    "The following function call will mount the volume named 'test1' on the local host.\n",
    "\n",
    "Note: Mounting requires root privileges, so any Python program or notebook that invokes this function must be run as root."
   ]
  },
  {
   "cell_type": "code",
   "execution_count": 8,
   "metadata": {
    "pycharm": {
     "name": "#%%\n"
    }
   },
   "outputs": [
    {
     "name": "stdout",
     "output_type": "stream",
     "text": [
      "Mounting volume 'test1' at '~/test1'.\n",
      "Volume mounted successfully.\n"
     ]
    }
   ],
   "source": [
    "mount_volume(volume_name=\"test1\", mountpoint=\"~/test1\", print_output=True)"
   ]
  },
  {
   "cell_type": "markdown",
   "metadata": {
    "pycharm": {
     "name": "#%% md\n"
    }
   },
   "source": [
    "## Example 6 - Create a New Snapshot for a Data Volume (Specify Name)\n",
    "\n",
    "The following function call will create a snapshot named 'snap1' for the volume named 'test2'.\n",
    "\n",
    "Tip: To implement dataset-to-model traceability, create a snapshot for the data volume that contains your training dataset, and then simply save the 'snapshotName' in your model store as an attribute of the model that you used the dataset to train."
   ]
  },
  {
   "cell_type": "code",
   "execution_count": 9,
   "metadata": {
    "pycharm": {
     "name": "#%%\n"
    }
   },
   "outputs": [
    {
     "name": "stdout",
     "output_type": "stream",
     "text": [
      "Creating snapshot 'snap1'.\n",
      "Snapshot created successfully.\n"
     ]
    }
   ],
   "source": [
    "create_snapshot(volume_name=\"test2\", snapshot_name=\"snap1\", print_output=True)"
   ]
  },
  {
   "cell_type": "markdown",
   "metadata": {
    "pycharm": {
     "name": "#%% md\n"
    }
   },
   "source": [
    "## Example 7 - Create a New Snapshot for a Data Volume (Default Name)\n",
    "\n",
    "The following function call will create a snapshot for the volume named 'test2'.\n",
    "\n",
    "Tip: To implement dataset-to-model traceability, create a snapshot for the data volume that contains your training dataset, and then simply save the 'snapshotName' in your model store as an attribute of the model that you used the dataset to train."
   ]
  },
  {
   "cell_type": "code",
   "execution_count": 10,
   "metadata": {
    "pycharm": {
     "name": "#%%\n"
    }
   },
   "outputs": [
    {
     "name": "stdout",
     "output_type": "stream",
     "text": [
      "Creating snapshot 'ntap_dsutil_20201113_221917'.\n",
      "Snapshot created successfully.\n"
     ]
    }
   ],
   "source": [
    "create_snapshot(volume_name=\"test2\", print_output=True)"
   ]
  },
  {
   "cell_type": "markdown",
   "metadata": {
    "pycharm": {
     "name": "#%% md\n"
    }
   },
   "source": [
    "## Example 8 - Retrieve a List of All Snapshots for a Data Volume\n",
    "\n",
    "The following function call will retrieve a list of all snapshots for the volume named 'test2'."
   ]
  },
  {
   "cell_type": "code",
   "execution_count": 11,
   "metadata": {
    "pycharm": {
     "name": "#%%\n"
    }
   },
   "outputs": [
    {
     "name": "stdout",
     "output_type": "stream",
     "text": [
      "Snapshot Name                Create Time\n",
      "---------------------------  -------------------------\n",
      "snap1                        2020-11-13 17:05:26+00:00\n",
      "ntap_dsutil_20201113_221917  2020-11-13 17:05:38+00:00\n"
     ]
    }
   ],
   "source": [
    "snapshots = list_snapshots(volume_name=\"test2\", print_output=True)"
   ]
  },
  {
   "cell_type": "markdown",
   "metadata": {
    "pycharm": {
     "name": "#%% md\n"
    }
   },
   "source": [
    "The contents of the returned list are shown below."
   ]
  },
  {
   "cell_type": "code",
   "execution_count": 12,
   "metadata": {
    "pycharm": {
     "name": "#%%\n"
    }
   },
   "outputs": [
    {
     "name": "stdout",
     "output_type": "stream",
     "text": [
      "[{'Snapshot Name': 'snap1', 'Create Time': datetime.datetime(2020, 11, 13, 17, 5, 26, tzinfo=datetime.timezone(datetime.timedelta(0), '+0000'))}, {'Snapshot Name': 'ntap_dsutil_20201113_221917', 'Create Time': datetime.datetime(2020, 11, 13, 17, 5, 38, tzinfo=datetime.timezone(datetime.timedelta(0), '+0000'))}]\n"
     ]
    }
   ],
   "source": [
    "print(snapshots)"
   ]
  },
  {
   "cell_type": "markdown",
   "metadata": {
    "pycharm": {
     "name": "#%% md\n"
    }
   },
   "source": [
    "## Example 9 - Delete an Existing Snapshot for a Data Volume\n",
    "\n",
    "The following function call will delete the snapshot named 'snap1' for the volume named 'test2'."
   ]
  },
  {
   "cell_type": "code",
   "execution_count": 13,
   "metadata": {
    "pycharm": {
     "name": "#%%\n"
    }
   },
   "outputs": [
    {
     "name": "stdout",
     "output_type": "stream",
     "text": [
      "Deleting snapshot 'snap1'.\n",
      "Snapshot deleted successfully.\n"
     ]
    }
   ],
   "source": [
    "delete_snapshot(volume_name=\"test2\", snapshot_name=\"snap1\", print_output=True)"
   ]
  },
  {
   "cell_type": "markdown",
   "metadata": {
    "pycharm": {
     "name": "#%% md\n"
    }
   },
   "source": [
    "## Example 10 - Restore a Snapshot for a Data Volume\n",
    "\n",
    "The following function call will restore the volume named 'test2' to its exact state at the time that the snapshot named 'ntap_dsutil_20201113_221917' was created.\n",
    "\n",
    "Warning: This will delete any snapshots that were created after 'snap1' was created."
   ]
  },
  {
   "cell_type": "code",
   "execution_count": 14,
   "metadata": {
    "pycharm": {
     "name": "#%%\n"
    }
   },
   "outputs": [
    {
     "name": "stdout",
     "output_type": "stream",
     "text": [
      "Restoring snapshot 'ntap_dsutil_20201113_221917'.\n",
      "Snapshot restored successfully.\n"
     ]
    }
   ],
   "source": [
    "restore_snapshot(volume_name=\"test2\", snapshot_name=\"ntap_dsutil_20201113_221917\", print_output=True)"
   ]
  },
  {
   "cell_type": "markdown",
   "metadata": {
    "pycharm": {
     "name": "#%% md\n"
    }
   },
   "source": [
    "## Example 11 - Clone a Data Volume (Current Volume Contents)\n",
    "\n",
    "The following function call will create a volume named 'test1_clone_team1' that is an exact copy of the current contents of the volume 'test1'."
   ]
  },
  {
   "cell_type": "code",
   "execution_count": 15,
   "metadata": {
    "pycharm": {
     "name": "#%%\n"
    }
   },
   "outputs": [
    {
     "name": "stdout",
     "output_type": "stream",
     "text": [
      "Creating clone volume 'test1_clone_team1' from source volume 'test1'.\n",
      "Warning: Cannot apply uid of '0' when creating clone; uid of source volume will be retained.\n",
      "Warning: Cannot apply gid of '0' when creating clone; gid of source volume will be retained.\n",
      "Clone volume created successfully.\n"
     ]
    }
   ],
   "source": [
    "clone_volume(new_volume_name=\"test1_clone_team1\", source_volume_name=\"test1\", print_output=True)"
   ]
  },
  {
   "cell_type": "markdown",
   "metadata": {
    "pycharm": {
     "name": "#%% md\n"
    }
   },
   "source": [
    "## Example 12 - Clone a Data Volume (Snapshot) and Mount Locally\n",
    "\n",
    "The following function will create a volume named 'test2_clone_team1' that is an exact copy of the contents of the volume 'test2' at the exact time that the snapshot 'snap1' was created, and will locally mount the volume at '~/test2_clone_team1'.\n",
    "\n",
    "Note: Mounting requires root privileges, so any Python program or notebook that invokes this function with the 'mountpoint' argument specified must be run as root."
   ]
  },
  {
   "cell_type": "code",
   "execution_count": 16,
   "metadata": {
    "pycharm": {
     "name": "#%%\n"
    }
   },
   "outputs": [
    {
     "name": "stdout",
     "output_type": "stream",
     "text": [
      "Creating clone volume 'test2_clone_team1' from source volume 'test2'.\n",
      "Warning: Cannot apply uid of '0' when creating clone; uid of source volume will be retained.\n",
      "Warning: Cannot apply gid of '0' when creating clone; gid of source volume will be retained.\n",
      "Clone volume created successfully.\n",
      "Mounting volume 'test2_clone_team1' at '~/test2_clone_team1'.\n",
      "Volume mounted successfully.\n"
     ]
    }
   ],
   "source": [
    "clone_volume(new_volume_name=\"test2_clone_team1\", source_volume_name=\"test2\", source_snapshot_name=\"snap1\", \n",
    "            mountpoint=\"~/test2_clone_team1\", print_output=True)"
   ]
  },
  {
   "cell_type": "markdown",
   "metadata": {
    "pycharm": {
     "name": "#%% md\n"
    }
   },
   "source": [
    "## Example 13 - Delete an Existing Data Volume\n",
    "\n",
    "The following function call will delete the volume named 'test1_clone_team1'."
   ]
  },
  {
   "cell_type": "code",
   "execution_count": 17,
   "metadata": {
    "pycharm": {
     "name": "#%%\n"
    }
   },
   "outputs": [
    {
     "name": "stdout",
     "output_type": "stream",
     "text": [
      "Deleting volume 'test1_clone_team1'.\n",
      "Volume deleted successfully.\n"
     ]
    }
   ],
   "source": [
    "delete_volume(volume_name=\"test1_clone_team1\", print_output=True)"
   ]
  },
  {
   "cell_type": "markdown",
   "metadata": {
    "pycharm": {
     "name": "#%% md\n"
    }
   },
   "source": [
    "## Example 14 - Retrieve a List of All Cloud Sync Relationships\n",
    "\n",
    "The following function call will retrieve a list of all existing Cloud Sync relationships that exist under the user's NetApp Cloud Central account.\n",
    "\n",
    "Note: To create a new Cloud Sync relationship, visit cloudsync.netapp.com."
   ]
  },
  {
   "cell_type": "code",
   "execution_count": 18,
   "metadata": {
    "pycharm": {
     "name": "#%%\n"
    }
   },
   "outputs": [
    {
     "name": "stdout",
     "output_type": "stream",
     "text": [
      "- id: 5f4cf53cf7f32c000bc61616\n",
      "  source:\n",
      "    nfs:\n",
      "      export: /iguaziovol01\n",
      "      host: 172.30.0.4\n",
      "      path: ''\n",
      "      provider: nfs\n",
      "      version: '3'\n",
      "    protocol: nfs\n",
      "  target:\n",
      "    nfs:\n",
      "      export: /cvs-ab7eaeff7a0843108ec494f7cd0e23c5\n",
      "      host: 172.30.0.4\n",
      "      path: ''\n",
      "      provider: cvs\n",
      "      version: '3'\n",
      "    protocol: nfs\n",
      "- id: 5fe2a6c597a18907ade906a4\n",
      "  source:\n",
      "    nfs:\n",
      "      export: /cloud_sync_source\n",
      "      host: 192.168.200.41\n",
      "      path: ''\n",
      "      provider: nfs\n",
      "      version: '3'\n",
      "    protocol: nfs\n",
      "  target:\n",
      "    nfs:\n",
      "      export: /trident_pvc_230358ad_8778_4670_a70e_33327c885c6e\n",
      "      host: 192.168.200.41\n",
      "      path: ''\n",
      "      provider: nfs\n",
      "      version: '3'\n",
      "    protocol: nfs\n",
      "\n"
     ]
    }
   ],
   "source": [
    "cloud_sync_relationships = list_cloud_sync_relationships(print_output=True)"
   ]
  },
  {
   "cell_type": "markdown",
   "metadata": {
    "pycharm": {
     "name": "#%% md\n"
    }
   },
   "source": [
    "The contents of the returned list are shown below."
   ]
  },
  {
   "cell_type": "code",
   "execution_count": 19,
   "metadata": {
    "pycharm": {
     "name": "#%%\n"
    }
   },
   "outputs": [
    {
     "name": "stdout",
     "output_type": "stream",
     "text": [
      "[{'id': '5f4cf53cf7f32c000bc61616', 'source': {'protocol': 'nfs', 'nfs': {'host': '172.30.0.4', 'export': '/iguaziovol01', 'path': '', 'version': '3', 'provider': 'nfs'}}, 'target': {'protocol': 'nfs', 'nfs': {'host': '172.30.0.4', 'export': '/cvs-ab7eaeff7a0843108ec494f7cd0e23c5', 'path': '', 'version': '3', 'provider': 'cvs'}}}, {'id': '5fe2a6c597a18907ade906a4', 'source': {'protocol': 'nfs', 'nfs': {'host': '192.168.200.41', 'export': '/cloud_sync_source', 'path': '', 'version': '3', 'provider': 'nfs'}}, 'target': {'protocol': 'nfs', 'nfs': {'host': '192.168.200.41', 'export': '/trident_pvc_230358ad_8778_4670_a70e_33327c885c6e', 'path': '', 'version': '3', 'provider': 'nfs'}}}]\n"
     ]
    }
   ],
   "source": [
    "print(cloud_sync_relationships)"
   ]
  },
  {
   "cell_type": "markdown",
   "metadata": {
    "pycharm": {
     "name": "#%% md\n"
    }
   },
   "source": [
    "## Example 15 - Trigger a Sync Operation for an Existing Cloud Sync Relationship (Wait Until Complete)\n",
    "\n",
    "The following function call will trigger a sync operation for an existing Cloud Sync relationshp with the ID '5fe2a6c597a18907ade906a4' under the user's NetApp Cloud Central account. The function will not return until the sync operation is complete.\n",
    "\n",
    "Note: To create a new Cloud Sync relationship, visit cloudsync.netapp.com."
   ]
  },
  {
   "cell_type": "code",
   "execution_count": 20,
   "metadata": {
    "pycharm": {
     "name": "#%%\n"
    }
   },
   "outputs": [
    {
     "name": "stdout",
     "output_type": "stream",
     "text": [
      "Triggering sync operation for Cloud Sync relationship (ID = 5fe2a6c597a18907ade906a4).\n",
      "Sync operation successfully triggered.\n",
      "Sync operation is not yet complete. Status: RUNNING\n",
      "Checking again in 60 seconds...\n",
      "Sync operation is not yet complete. Status: RUNNING\n",
      "Checking again in 60 seconds...\n",
      "Success: Sync operation is complete.\n"
     ]
    }
   ],
   "source": [
    "sync_cloud_sync_relationship(relationship_id=\"5fe2a6c597a18907ade906a4\", wait_until_complete=True, print_output=True)"
   ]
  },
  {
   "cell_type": "markdown",
   "metadata": {
    "pycharm": {
     "name": "#%% md\n"
    }
   },
   "source": [
    "## Example 16 - Trigger a Sync Operation for an Existing Cloud Sync Relationship (Do Not Wait Until Complete)\n",
    "\n",
    "The following function call will trigger a sync operation for an existing Cloud Sync relationshp with the ID '5fe2a6c597a18907ade906a4' under the user's NetApp Cloud Central account. The function will return immediately upon triggering the sync operation, without confirming that the sync operation has been completed.\n",
    "\n",
    "Note: To create a new Cloud Sync relationship, visit cloudsync.netapp.com."
   ]
  },
  {
   "cell_type": "code",
   "execution_count": 21,
   "metadata": {
    "pycharm": {
     "name": "#%%\n"
    }
   },
   "outputs": [
    {
     "name": "stdout",
     "output_type": "stream",
     "text": [
      "Triggering sync operation for Cloud Sync relationship (ID = 5fe2a6c597a18907ade906a4).\n",
      "Sync operation successfully triggered.\n"
     ]
    }
   ],
   "source": [
    "sync_cloud_sync_relationship(relationship_id=\"5fe2a6c597a18907ade906a4\", print_output=True)"
   ]
  },
  {
   "cell_type": "markdown",
   "metadata": {
    "pycharm": {
     "name": "#%% md\n"
    }
   },
   "source": [
    "## Example 17 - Retrieve a List of All SnapMirror Relationships\n",
    "\n",
    "The following function call will retrieve a list of all existing SnapMirror relationships for which the destination volume resides on the user's storage system.\n",
    "\n",
    "Note: To create a new SnapMirror relationship, access ONTAP System Manager."
   ]
  },
  {
   "cell_type": "code",
   "execution_count": 22,
   "metadata": {
    "pycharm": {
     "name": "#%%\n"
    }
   },
   "outputs": [
    {
     "name": "stdout",
     "output_type": "stream",
     "text": [
      "UUID                                  Type    Healthy    Current Transfer Status    Source Cluster    Source SVM    Source Volume    Dest Cluster    Dest SVM    Dest Volume\n",
      "------------------------------------  ------  ---------  -------------------------  ----------------  ------------  ---------------  --------------  ----------  -------------\n",
      "9e8d14c8-359d-11eb-b94d-005056935ebe  async   True       <NA>                       user's cluster    ailab1        sm01             user's cluster  ailab1      vol_sm01_dest\n"
     ]
    }
   ],
   "source": [
    "snap_mirror_relationships = list_snap_mirror_relationships(print_output=True)"
   ]
  },
  {
   "cell_type": "markdown",
   "metadata": {
    "pycharm": {
     "name": "#%% md\n"
    }
   },
   "source": [
    "The contents of the returned list are shown below."
   ]
  },
  {
   "cell_type": "code",
   "execution_count": 23,
   "metadata": {
    "pycharm": {
     "name": "#%%\n"
    }
   },
   "outputs": [
    {
     "name": "stdout",
     "output_type": "stream",
     "text": [
      "[{'UUID': '9e8d14c8-359d-11eb-b94d-005056935ebe', 'Type': 'async', 'Healthy': True, 'Current Transfer Status': None, 'Source Cluster': \"user's cluster\", 'Source SVM': 'ailab1', 'Source Volume': 'sm01', 'Dest Cluster': \"user's cluster\", 'Dest SVM': 'ailab1', 'Dest Volume': 'vol_sm01_dest'}]\n"
     ]
    }
   ],
   "source": [
    "print(snap_mirror_relationships)"
   ]
  },
  {
   "cell_type": "markdown",
   "metadata": {
    "pycharm": {
     "name": "#%% md\n"
    }
   },
   "source": [
    "## Example 18 - Trigger a Sync Operation for an Existing SnapMirror Relationship (Wait Until Complete)\n",
    "\n",
    "The following function call will trigger a sync operation for an existing SnapMirror relationshp, with the UUID '9e8d14c8-359d-11eb-b94d-005056935ebe', for which the destination volume resides on the user's storage system. The function will not return until the sync operation is complete.\n",
    "\n",
    "Note: To create a new SnapMirror relationship, access ONTAP System Manager."
   ]
  },
  {
   "cell_type": "code",
   "execution_count": 24,
   "metadata": {
    "pycharm": {
     "name": "#%%\n"
    }
   },
   "outputs": [
    {
     "name": "stdout",
     "output_type": "stream",
     "text": [
      "Triggering sync operation for SnapMirror relationship (UUID = 9e8d14c8-359d-11eb-b94d-005056935ebe).\n",
      "Sync operation successfully triggered.\n",
      "Waiting for sync operation to complete.\n",
      "Status check will be performed in 10 seconds...\n",
      "Success: Sync operation is complete.\n"
     ]
    }
   ],
   "source": [
    "sync_snap_mirror_relationship(uuid=\"9e8d14c8-359d-11eb-b94d-005056935ebe\", wait_until_complete=True, print_output=True)"
   ]
  },
  {
   "cell_type": "markdown",
   "metadata": {
    "pycharm": {
     "name": "#%% md\n"
    }
   },
   "source": [
    "## Example 19 - Trigger a Sync Operation for an Existing SnapMirror Relationship (Do Not Wait Until Complete)\n",
    "\n",
    "The following function call will trigger a sync operation for an existing SnapMirror relationship, with the UUID '9e8d14c8-359d-11eb-b94d-005056935ebe', for which the destination volume resides on the user's storage system. The function will return immediately upon triggering the sync operation, without confirming that the sync operation has been completed.\n",
    "\n",
    "Note: To create a new SnapMirror relationship, access ONTAP System Manager."
   ]
  },
  {
   "cell_type": "code",
   "execution_count": 25,
   "metadata": {
    "pycharm": {
     "name": "#%%\n"
    }
   },
   "outputs": [
    {
     "name": "stdout",
     "output_type": "stream",
     "text": [
      "Triggering sync operation for SnapMirror relationship (UUID = 9e8d14c8-359d-11eb-b94d-005056935ebe).\n",
      "Sync operation successfully triggered.\n"
     ]
    }
   ],
   "source": [
    "sync_snap_mirror_relationship(uuid=\"9e8d14c8-359d-11eb-b94d-005056935ebe\", print_output=True)"
   ]
  },
  {
   "source": [
    "## Example 20 - Push the Contents of a Directory to S3 (multithreaded)\n",
    "\n",
    "The following function call will push the contents of data volume 'test_data', which is mounted locally at 'test_scripts/test_data', to S3 bucket 'testbucket', and apply the prefix 'test/' to all object keys."
   ],
   "cell_type": "markdown",
   "metadata": {
    "pycharm": {
     "name": "#%% md\n"
    }
   }
  },
  {
   "cell_type": "code",
   "execution_count": 26,
   "metadata": {
    "pycharm": {
     "name": "#%%\n"
    }
   },
   "outputs": [
    {
     "output_type": "stream",
     "name": "stdout",
     "text": [
      "Uploading file 'test_scripts/test_data/test1.csv' to bucket 'testbucket' and applying key 'test/test1.csv'.\n",
      "Uploading file 'test_scripts/test_data/test2/test3/test3.csv' to bucket 'testbucket' and applying key 'test/test2/test3/test3.csv'.\n",
      "Uploading file 'test_scripts/test_data/test2/test2.csv' to bucket 'testbucket' and applying key 'test/test2/test2.csv'.\n",
      "Uploading file 'test_scripts/test_data/test2/dup/test3.csv' to bucket 'testbucket' and applying key 'test/test2/dup/test3.csv'.\n",
      "Uploading file 'test_scripts/test_data/test2/dup/test2.csv' to bucket 'testbucket' and applying key 'test/test2/dup/test2.csv'.\n",
      "Upload complete.\n"
     ]
    }
   ],
   "source": [
    "push_directory_to_s3(s3_bucket=\"testbucket\", local_directory=\"test_scripts/test_data\", s3_object_key_prefix=\"test/\", print_output=True)"
   ]
  },
  {
   "source": [
    "## Example 21 - Push a File to S3\n",
    "\n",
    "The following function call will push the file 'test_scripts/test_data/test1.csv' to S3 bucket 'testbucket', and apply the key 'test1.csv' to the newly-pushed S3 object."
   ],
   "cell_type": "markdown",
   "metadata": {
    "pycharm": {
     "name": "#%% md\n"
    }
   }
  },
  {
   "cell_type": "code",
   "execution_count": 27,
   "metadata": {
    "pycharm": {
     "name": "#%%\n"
    }
   },
   "outputs": [
    {
     "output_type": "stream",
     "name": "stdout",
     "text": [
      "Uploading file 'test_scripts/test_data/test1.csv' to bucket 'testbucket' and applying key 'test1.csv'.\n",
      "Upload complete.\n"
     ]
    }
   ],
   "source": [
    "push_file_to_s3(s3_bucket=\"testbucket\", local_file=\"test_scripts/test_data/test1.csv\", s3_object_key=\"test1.csv\", print_output=True)"
   ]
  },
  {
   "source": [
    "## Example 22 - Pull the Contents of a Bucket from S3 (multithreaded)\n",
    "\n",
    "The following function call will pull all objects in S3 bucket 'testbucket' and save them to a directory named 'testdl/' on data volume 'project1', which is mounted locally at './test_scripts/test_data/'."
   ],
   "cell_type": "markdown",
   "metadata": {
    "pycharm": {
     "name": "#%% md\n"
    }
   }
  },
  {
   "cell_type": "code",
   "execution_count": 28,
   "metadata": {
    "pycharm": {
     "name": "#%%\n"
    }
   },
   "outputs": [
    {
     "output_type": "stream",
     "name": "stdout",
     "text": [
      "Downloading object 'test2/dup/test3.csv' from bucket 'testbucket' and saving as './test_scripts/test_data/testdl/test2/dup/test3.csv'.\n",
      "Downloading object 'test2/test2.csv' from bucket 'testbucket' and saving as './test_scripts/test_data/testdl/test2/test2.csv'.\n",
      "Downloading object 'test2/test3/test3.csv' from bucket 'testbucket' and saving as './test_scripts/test_data/testdl/test2/test3/test3.csv'.\n",
      "Downloading object 'test1.csv' from bucket 'testbucket' and saving as './test_scripts/test_data/testdl/test1.csv'.\n",
      "Downloading object 'test2/dup/test2.csv' from bucket 'testbucket' and saving as './test_scripts/test_data/testdl/test2/dup/test2.csv'.\n",
      "Download complete.\n"
     ]
    }
   ],
   "source": [
    "pull_bucket_from_s3(s3_bucket=\"testbucket\", local_directory=\"./test_scripts/test_data/testdl/\", print_output=True)"
   ]
  },
  {
   "source": [
    "## Example 23 - Pull an Object from S3\n",
    "\n",
    "The following function call will pull the object 'test1.csv' from S3 bucket 'testbucket' and save locally as './test_scripts/test_data/test.csv'."
   ],
   "cell_type": "markdown",
   "metadata": {
    "pycharm": {
     "name": "#%% md\n"
    }
   }
  },
  {
   "cell_type": "code",
   "execution_count": 29,
   "metadata": {
    "pycharm": {
     "name": "#%%\n"
    }
   },
   "outputs": [
    {
     "output_type": "stream",
     "name": "stdout",
     "text": [
      "Downloading object 'test1.csv' from bucket 'testbucket' and saving as './test_scripts/test_data/test.csv'.\n",
      "Download complete.\n"
     ]
    }
   ],
   "source": [
    "pull_object_from_s3(s3_bucket=\"testbucket\", s3_object_key=\"test1.csv\", local_file=\"./test_scripts/test_data/test.csv\", print_output=True)"
   ]
  }
 ],
 "metadata": {
  "kernelspec": {
   "display_name": "Python 3",
   "language": "python",
   "name": "python3"
  },
  "language_info": {
   "codemirror_mode": {
    "name": "ipython",
    "version": 3
   },
   "file_extension": ".py",
   "mimetype": "text/x-python",
   "name": "python",
   "nbconvert_exporter": "python",
   "pygments_lexer": "ipython3",
   "version": "3.7.3-final"
  }
 },
 "nbformat": 4,
 "nbformat_minor": 4
}